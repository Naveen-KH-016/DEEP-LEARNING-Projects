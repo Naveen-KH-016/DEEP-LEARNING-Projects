{
 "cells": [
  {
   "cell_type": "code",
   "execution_count": 1,
   "id": "d6eb8ba6",
   "metadata": {},
   "outputs": [],
   "source": [
    "import os\n",
    "os.chdir('C:\\\\Users\\\\Admin\\\\Desktop\\\\backup_files\\\\pca')\n",
    "import pandas as pd \n",
    "import numpy as np \n",
    "import matplotlib.pyplot as plt\n",
    "import seaborn as sns\n",
    "from sklearn.decomposition import PCA\n",
    "from sklearn import preprocessing"
   ]
  },
  {
   "cell_type": "code",
   "execution_count": 2,
   "id": "1607b29b",
   "metadata": {},
   "outputs": [
    {
     "name": "stdout",
     "output_type": "stream",
     "text": [
      "<class 'pandas.core.frame.DataFrame'>\n",
      "RangeIndex: 10 entries, 0 to 9\n",
      "Data columns (total 3 columns):\n",
      " #   Column  Non-Null Count  Dtype\n",
      "---  ------  --------------  -----\n",
      " 0   v1      10 non-null     int64\n",
      " 1   v2      10 non-null     int64\n",
      " 2   v3      10 non-null     int64\n",
      "dtypes: int64(3)\n",
      "memory usage: 368.0 bytes\n"
     ]
    }
   ],
   "source": [
    "df = pd.read_csv('pca3.csv')\n",
    "df.info()\n",
    "#df= df.drop('Unnamed: 0', axis=1)\n",
    "#df.info()\n"
   ]
  },
  {
   "cell_type": "code",
   "execution_count": 3,
   "id": "cc72d1cb",
   "metadata": {},
   "outputs": [
    {
     "data": {
      "text/plain": [
       "array([[ 2.15142276, -0.17311941, -0.10681648],\n",
       "       [-3.80418259, -2.88749898, -0.5104355 ],\n",
       "       [-0.15321328, -0.98688598, -0.26941001],\n",
       "       [ 4.7065185 ,  1.30153634, -0.65167999],\n",
       "       [-1.29375788,  2.27912632, -0.44919235],\n",
       "       [-4.0993133 ,  0.1435814 ,  0.80312818],\n",
       "       [ 1.62582148, -2.23208282, -0.80281431],\n",
       "       [-2.11448986,  3.2512433 ,  0.16837351],\n",
       "       [ 0.2348172 ,  0.37304031, -0.27513962],\n",
       "       [ 2.74637697, -1.06894049,  2.09398657]])"
      ]
     },
     "execution_count": 3,
     "metadata": {},
     "output_type": "execute_result"
    }
   ],
   "source": [
    "#PCA \n",
    "pca3_nocs = PCA(n_components=3)\n",
    "pca3_nocs_comp = pca3_nocs.fit_transform(df)\n",
    "pca3_nocs_comp #Components\n"
   ]
  },
  {
   "cell_type": "code",
   "execution_count": 4,
   "id": "ae8f3deb",
   "metadata": {},
   "outputs": [
    {
     "data": {
      "text/plain": [
       "array([[ 0.1375708 ,  0.25045969, -0.95830278],\n",
       "       [ 0.69903712,  0.66088917,  0.27307986],\n",
       "       [ 0.70172743, -0.70745703, -0.08416157]])"
      ]
     },
     "execution_count": 4,
     "metadata": {},
     "output_type": "execute_result"
    }
   ],
   "source": [
    "pca3_nocs_egvct = pca3_nocs.components_ #Eigen vectors\n",
    "pca3_nocs_egvct"
   ]
  },
  {
   "cell_type": "code",
   "execution_count": 5,
   "id": "bae9be5c",
   "metadata": {},
   "outputs": [
    {
     "data": {
      "text/plain": [
       "array([[ 2.15142276, -0.17311941, -0.10681648],\n",
       "       [-3.80418259, -2.88749898, -0.5104355 ],\n",
       "       [-0.15321328, -0.98688598, -0.26941001],\n",
       "       [ 4.7065185 ,  1.30153634, -0.65167999],\n",
       "       [-1.29375788,  2.27912632, -0.44919235],\n",
       "       [-4.0993133 ,  0.1435814 ,  0.80312818],\n",
       "       [ 1.62582148, -2.23208282, -0.80281431],\n",
       "       [-2.11448986,  3.2512433 ,  0.16837351],\n",
       "       [ 0.2348172 ,  0.37304031, -0.27513962],\n",
       "       [ 2.74637697, -1.06894049,  2.09398657]])"
      ]
     },
     "execution_count": 5,
     "metadata": {},
     "output_type": "execute_result"
    }
   ],
   "source": [
    "pca3_nocs_comp #Components"
   ]
  },
  {
   "cell_type": "code",
   "execution_count": 6,
   "id": "ad9cbcb7",
   "metadata": {},
   "outputs": [
    {
     "data": {
      "text/plain": [
       "array([8.27394258, 3.67612927, 0.74992815])"
      ]
     },
     "execution_count": 6,
     "metadata": {},
     "output_type": "execute_result"
    }
   ],
   "source": [
    "pca3_nocs_egvl = pca3_nocs.explained_variance_ #Eigen Values\n",
    "pca3_nocs_egvl"
   ]
  },
  {
   "cell_type": "code",
   "execution_count": null,
   "id": "e237d6fc",
   "metadata": {},
   "outputs": [],
   "source": []
  },
  {
   "cell_type": "code",
   "execution_count": null,
   "id": "a778740c",
   "metadata": {},
   "outputs": [],
   "source": []
  },
  {
   "cell_type": "code",
   "execution_count": null,
   "id": "4588e5c0",
   "metadata": {},
   "outputs": [],
   "source": []
  }
 ],
 "metadata": {
  "kernelspec": {
   "display_name": "Python 3 (ipykernel)",
   "language": "python",
   "name": "python3"
  },
  "language_info": {
   "codemirror_mode": {
    "name": "ipython",
    "version": 3
   },
   "file_extension": ".py",
   "mimetype": "text/x-python",
   "name": "python",
   "nbconvert_exporter": "python",
   "pygments_lexer": "ipython3",
   "version": "3.9.13"
  }
 },
 "nbformat": 4,
 "nbformat_minor": 5
}
